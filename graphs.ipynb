{
 "cells": [
  {
   "cell_type": "code",
   "execution_count": null,
   "metadata": {},
   "outputs": [],
   "source": [
    "!pip install pycirclize"
   ]
  },
  {
   "cell_type": "code",
   "execution_count": null,
   "metadata": {},
   "outputs": [],
   "source": [
    "from pycirclize import Circos"
   ]
  },
  {
   "cell_type": "markdown",
   "metadata": {},
   "source": [
    "Usually, we want to have multiple sectors for the circle. We need to initialise a Circos object with the sector metadata. The sectors need to be defined in a dictionary before passing it to the Circos constructor."
   ]
  },
  {
   "cell_type": "code",
   "execution_count": null,
   "metadata": {},
   "outputs": [],
   "source": [
    "# Initialize circos sectors\n",
    "sectors = {\"A\": 1, \"B\": 2, \"C\": 3, \"D\": 4}\n",
    "circos = Circos(sectors, space=5)"
   ]
  },
  {
   "cell_type": "markdown",
   "metadata": {},
   "source": [
    "The `space` specifies how much padding we want to add between the sectors. If it is set to zero, this will become a \"pie chart\".\n",
    "\n",
    "Next, loop in the sectors and render each sector with what we want to display in it."
   ]
  },
  {
   "cell_type": "code",
   "execution_count": null,
   "metadata": {},
   "outputs": [],
   "source": [
    "for sector in circos.sectors:\n",
    "    sector.axis(lw=2)\n",
    "    sector.text(f\"Sector: {sector.name}={sector.size}\", size=15)"
   ]
  },
  {
   "cell_type": "markdown",
   "metadata": {},
   "source": [
    "The `sector.axis()` tells the library to draw boundaries of each sector. The lw=2 means the \"line width\" is set to 2, which is thicker than default. Then, the `sector.text()` function shows the legend of each sector. The ``sector.name`` is the key of the sector dictionary that we defined previously, and the `sector.size` is the value of the dictionary that defines how large the sector is. The size we passed in will be normalised so we don't need to worry about that.\n",
    "\n",
    "Finally, we need to plot it. The code below will do it."
   ]
  },
  {
   "cell_type": "code",
   "execution_count": null,
   "metadata": {},
   "outputs": [],
   "source": [
    "fig = circos.plotfig()"
   ]
  },
  {
   "cell_type": "code",
   "execution_count": null,
   "metadata": {},
   "outputs": [],
   "source": [
    "import numpy as np\n",
    "np.random.seed(0)\n",
    "\n",
    "# Sectors represent different areas in a city, with the x-axis representing 24 hours of the day\n",
    "sectors = {\"North\": 24, \"East\": 24, \"South\": 24, \"West\": 24}\n",
    "circos = Circos(sectors, space=5)\n",
    "\n",
    "for sector in circos.sectors:\n",
    "    # Simulate x (24 hours) and y (number of vehicles)\n",
    "    x = np.linspace(0, 24, 24)\n",
    "    y = np.random.randint(10, 1000, 24)  # Simulated hourly vehicle numbers\n",
    "\n",
    "    # Plot bars for the number of vehicles passed the intersection\n",
    "    bar_track = sector.add_track((10, 50))\n",
    "    bar_track.bar(x, y)\n",
    "\n",
    "    # Plot a line chart showing traffic volume trends throughout the day\n",
    "    line_track = sector.add_track((60, 100))\n",
    "    line_track.xticks_by_interval(1)\n",
    "    line_track.line(x, y)\n",
    "\n",
    "    # Plot sector name for identification\n",
    "    sector.text(sector.name, r=110, size=15)\n",
    "\n",
    "    # Add enclosed axis of the charts in the sectors\n",
    "    line_track.axis()\n",
    "    bar_track.axis()\n",
    "\n",
    "fig = circos.plotfig()"
   ]
  },
  {
   "cell_type": "markdown",
   "metadata": {},
   "source": [
    "Now, let's have a look at how to create a practical Circos chart using this library. I will simulate a real-world problem.\n",
    "\n",
    "Suppose we have a traffic dataset for an intersection. We want to visualise how many vehicles have entered this intersection from each direction.\n",
    "\n",
    "First of all, we need to import the Circos graph type from the PyCirclize library. Then, let's import Numpy as well to generate some dummy data."
   ]
  },
  {
   "cell_type": "code",
   "execution_count": null,
   "metadata": {},
   "outputs": [],
   "source": [
    "from pycirclize import Circos\n",
    "import numpy as np"
   ]
  },
  {
   "cell_type": "markdown",
   "metadata": {},
   "source": [
    "Next, let's create the four directions and the x-axis representing 24 hours in a day."
   ]
  },
  {
   "cell_type": "code",
   "execution_count": null,
   "metadata": {},
   "outputs": [],
   "source": [
    "# Sectors represent different directions of the intersection,\n",
    "# with the x-axis representing 24 hours of the day\n",
    "sectors = {\"North\": 24, \"East\": 24, \"South\": 24, \"West\": 24}\n",
    "circos = Circos(sectors, space=5)"
   ]
  },
  {
   "cell_type": "markdown",
   "metadata": {},
   "source": [
    "Then, in the loop of each sector `for sector in circos.sectors`, we need to simulate the `x` (24 hours) and `y` (number of vehicles)."
   ]
  },
  {
   "cell_type": "code",
   "execution_count": null,
   "metadata": {},
   "outputs": [],
   "source": [
    "### Please be advised that the code below needs to run in the sectors for-loop\n",
    "\n",
    "# Simulate x (24 hours) and y (number of vehicles)\n",
    "x = np.linspace(0, 24, 24)\n",
    "y = np.random.randint(10, 1000, 24)  # Simulated hourly vehicle numbers"
   ]
  },
  {
   "cell_type": "markdown",
   "metadata": {},
   "source": [
    "As the first step, let's add a bar chart as follows. The tuple `(10, 50)` means that we want the circle to start at the 10th pixel away from the centre, and stop at the 50th. In this ring-shaped area, the bar chart will be rendered."
   ]
  },
  {
   "cell_type": "code",
   "execution_count": null,
   "metadata": {},
   "outputs": [],
   "source": [
    "# Plot bars for the number of vehicles passed the intersection\n",
    "bar_track = sector.add_track((10, 50))\n",
    "bar_track.bar(x, y)"
   ]
  },
  {
   "cell_type": "markdown",
   "metadata": {},
   "source": [
    "Please be advised that the code needs to be put in a for-loop. Also, at the end it needs to call the `plotfig()` method of the `circos` object. If you are not sure, please scroll down to get the full code snippet which is gauranteed runable."
   ]
  },
  {
   "cell_type": "markdown",
   "metadata": {},
   "source": [
    "Next, let's add line charts to show the traffic volume trend. This time, the sector begins at the 60th pixel and ends up with the 100th. Recall that the bar chart ended at the 50th pixel, so there will be a 10px padding between these two ring shapes.\n",
    "\n",
    "Besides, the `xticks_by_interval(1)` will make sure there are ticks for every hour."
   ]
  },
  {
   "cell_type": "code",
   "execution_count": null,
   "metadata": {},
   "outputs": [],
   "source": [
    "# Plot a line chart showing traffic volume trends throughout the day\n",
    "line_track = sector.add_track((60, 100))\n",
    "line_track.xticks_by_interval(1)\n",
    "line_track.line(x, y)"
   ]
  },
  {
   "cell_type": "markdown",
   "metadata": {},
   "source": [
    "Great! Now, let's add the missing titles for the sectors. That are, the areas of the city that were already in the sectors dictionary."
   ]
  },
  {
   "cell_type": "code",
   "execution_count": null,
   "metadata": {},
   "outputs": [],
   "source": [
    "# Plot sector name for identification\n",
    "sector.text(sector.name, r=110, size=15)"
   ]
  },
  {
   "cell_type": "markdown",
   "metadata": {},
   "source": [
    "The `r=110` tells that the text should be rendered at the 110th pixel, which leaves another 10 pixels from the line chart. The size controls the font size."
   ]
  },
  {
   "cell_type": "markdown",
   "metadata": {},
   "source": [
    "If we would like the charts to be enclosed in the sector, we can call the .axis() function to do so."
   ]
  },
  {
   "cell_type": "code",
   "execution_count": null,
   "metadata": {},
   "outputs": [],
   "source": [
    "# Add enclosed axis of the charts in the sectors\n",
    "line_track.axis()\n",
    "bar_track.axis()"
   ]
  },
  {
   "cell_type": "markdown",
   "metadata": {},
   "source": [
    "Here is the full code snippet for your convenience. It will generate the above graph exactly."
   ]
  },
  {
   "cell_type": "code",
   "execution_count": null,
   "metadata": {},
   "outputs": [],
   "source": [
    "from pycirclize import Circos\n",
    "import numpy as np\n",
    "np.random.seed(0)\n",
    "\n",
    "# Sectors represent different areas in a city, with the x-axis representing 24 hours of the day\n",
    "sectors = {\"North\": 24, \"East\": 24, \"South\": 24, \"West\": 24}\n",
    "circos = Circos(sectors, space=5)\n",
    "\n",
    "for sector in circos.sectors:\n",
    "    # Simulate x (24 hours) and y (number of vehicles)\n",
    "    x = np.linspace(0, 24, 24)\n",
    "    y = np.random.randint(10, 1000, 24)  # Simulated hourly vehicle numbers\n",
    "\n",
    "    # Plot bars for the number of vehicles passed the intersection\n",
    "    bar_track = sector.add_track((10, 50))\n",
    "    bar_track.bar(x, y)\n",
    "\n",
    "    # Plot a line chart showing traffic volume trends throughout the day\n",
    "    line_track = sector.add_track((60, 100))\n",
    "    line_track.xticks_by_interval(1)\n",
    "    line_track.line(x, y)\n",
    "\n",
    "    # Plot sector name for identification\n",
    "    sector.text(sector.name, r=110, size=15)\n",
    "\n",
    "    # Add enclosed axis of the charts in the sectors\n",
    "    line_track.axis()\n",
    "    bar_track.axis()\n",
    "\n",
    "fig = circos.plotfig()"
   ]
  },
  {
   "cell_type": "markdown",
   "metadata": {},
   "source": [
    "In this article, I have demonstrated the PyCirclize library for its surface functionalities. Basically, I have introduced what is a Circos chart and why we want to use it sometimes. I have also simulated a real-world use case about visualising traffic volumes in different directions of an intersection to demonstrate how easy it is to generate such a graph in Python using the library.\n",
    "\n",
    "We've seen how the library renders datasets into appealing insights by the diagram with a few lines of code, but that's only a fraction of its capability. Therefore, my next article next week will have a deep dive into this library again. There will be fancier charts, and of course, real-world examples will be simulated and demonstrated. Please consider subscribing to my updates and receiving emails so you won't miss something like this article in the future!"
   ]
  }
 ],
 "metadata": {
  "language_info": {
   "name": "python"
  }
 },
 "nbformat": 4,
 "nbformat_minor": 2
}
